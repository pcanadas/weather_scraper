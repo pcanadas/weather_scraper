{
 "cells": [
  {
   "cell_type": "code",
   "execution_count": null,
   "metadata": {},
   "outputs": [],
   "source": [
    "# Importamos las librerías necesarias\n",
    "import pandas as pd\n",
    "import time\n",
    "\n",
    "# Cargamos el archivo de datos\n",
    "hoy = time.strftime('%Y-%m-%d')\n",
    "data = pd.read_csv(f'crudo/pronostico_{hoy}.csv', sep=',', encoding='utf-8-sig')\n",
    "\n",
    "# Configuración de Pandas para visualización completa\n",
    "pd.set_option('display.max_columns', None)  # Muestra todas las columnas\n",
    "pd.set_option('display.max_colwidth', None)  # Evita truncar el contenido de las celdas\n",
    "pd.set_option('display.expand_frame_repr', False)  # Evita dividir el DataFrame en varias líneas\n",
    "\n",
    "# Mostramos los primeros registros  \n",
    "print(data.head(10))"
   ]
  },
  {
   "cell_type": "code",
   "execution_count": null,
   "metadata": {},
   "outputs": [],
   "source": [
    "# Diccionario de mapeo de meses a números\n",
    "meses_a_numeros = {\n",
    "    'enero': '01', 'febrero': '02', 'marzo': '03', 'abril': '04',\n",
    "    'mayo': '05', 'junio': '06', 'julio': '07', 'agosto': '08',\n",
    "    'septiembre': '09', 'octubre': '10', 'noviembre': '11', 'diciembre': '12'\n",
    "}"
   ]
  },
  {
   "cell_type": "code",
   "execution_count": null,
   "metadata": {},
   "outputs": [],
   "source": [
    "# Creamos nuevas columnas con los datos necesarios\n",
    "data['date'] = data['Fecha'].str.split(', ', expand=True)[1]\n",
    "data['mes'] = data['date'].str.split(' ').apply(lambda x: x[1]).map(meses_a_numeros)\n",
    "data['fecha_prevision'] = '2025-' + data['mes'] + '-' + data['date'].str.split(' ').apply(lambda x: x[0])\n",
    "data['t_max'] = data['Temperatura'].str.split('/', expand=True)[0]\n",
    "data['t_min'] = data['Temperatura'].str.split('/', expand=True)[1]"
   ]
  },
  {
   "cell_type": "code",
   "execution_count": null,
   "metadata": {},
   "outputs": [],
   "source": [
    "data.head(10)"
   ]
  },
  {
   "cell_type": "code",
   "execution_count": null,
   "metadata": {},
   "outputs": [],
   "source": [
    "# Creamos un nuevo DataFrame con las columnas que nos interesan\n",
    "limpio = data[['ciudad', 'fecha_datos', 'fecha_prevision', 't_max', 't_min', 'Clima', 'Viento']]"
   ]
  },
  {
   "cell_type": "code",
   "execution_count": null,
   "metadata": {},
   "outputs": [],
   "source": [
    "print(limpio)"
   ]
  },
  {
   "cell_type": "code",
   "execution_count": null,
   "metadata": {},
   "outputs": [],
   "source": [
    "# Guardamos el nuevo DataFrame en un archivo CSV\n",
    "limpio.to_csv(f'limpio/pronostico_{hoy}.csv', sep=',', encoding='utf-8', index=False)"
   ]
  }
 ],
 "metadata": {
  "kernelspec": {
   "display_name": "ml_env",
   "language": "python",
   "name": "python3"
  },
  "language_info": {
   "codemirror_mode": {
    "name": "ipython",
    "version": 3
   },
   "file_extension": ".py",
   "mimetype": "text/x-python",
   "name": "python",
   "nbconvert_exporter": "python",
   "pygments_lexer": "ipython3",
   "version": "3.13.0"
  }
 },
 "nbformat": 4,
 "nbformat_minor": 2
}
