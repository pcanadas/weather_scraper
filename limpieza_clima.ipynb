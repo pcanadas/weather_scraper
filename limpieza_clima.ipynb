{
 "cells": [
  {
   "cell_type": "code",
   "execution_count": null,
   "metadata": {},
   "outputs": [],
   "source": [
    "# Importamos las librerías necesarias\n",
    "import pandas as pd\n",
    "\n",
    "# Cargamos el archivo de datos con nombres de columnas\n",
    "data = pd.read_csv('crudo/clima_crudo.csv', sep=',', encoding='utf-8', header=None)\n",
    "\n",
    "# Configuración de Pandas para visualización completa\n",
    "pd.set_option('display.max_columns', None)\n",
    "pd.set_option('display.max_colwidth', None)\n",
    "pd.set_option('display.expand_frame_repr', False)\n"
   ]
  },
  {
   "cell_type": "code",
   "execution_count": null,
   "metadata": {},
   "outputs": [],
   "source": [
    "# Diccionario de mapeo de meses a números\n",
    "meses_a_numeros = {\n",
    "    'enero': '01', 'febrero': '02', 'marzo': '03', 'abril': '04',\n",
    "    'mayo': '05', 'junio': '06', 'julio': '07', 'agosto': '08',\n",
    "    'septiembre': '09', 'octubre': '10', 'noviembre': '11', 'diciembre': '12'\n",
    "}"
   ]
  },
  {
   "cell_type": "code",
   "execution_count": null,
   "metadata": {},
   "outputs": [],
   "source": [
    "# Creamos nuevas columnas con los datos necesarios\n",
    "data['ciudad'] = data[1].str.split(' - ', expand=True)[0]\n",
    "data['date'] = data[1].str.split(' - ', expand=True)[1]\n",
    "data['mes'] = data['date'].str.split(' ').apply(lambda x: x[2]).map(meses_a_numeros)\n",
    "data['fecha'] = data['date'].str.split(' ').apply(lambda x: x[0]) + '/' + data['mes'] + '/2024'\n",
    "data['t_max'] = data[2].str.split(' ', expand=True)[1]\n",
    "data['t_min'] = data[2].str.split(' ', expand=True)[3]\n",
    "data['precipitacion'] = data[2].str.split(' ', expand=True)[5] + ' ' + data[2].str.split(' ', expand=True)[6]\n",
    "data['viento'] = data[2].str.split(' ', expand=True)[8] + ' ' + data[2].str.split(' ', expand=True)[9]\n",
    "data['humedad'] = data[2].str.split(' ', expand=True)[11] + ' ' + data[2].str.split(' ', expand=True)[12]\n"
   ]
  },
  {
   "cell_type": "code",
   "execution_count": null,
   "metadata": {},
   "outputs": [],
   "source": [
    "# Creamos un nuevo DataFrame con las columnas que nos interesan\n",
    "limpio = data[['ciudad', 'fecha', 't_max', 't_min', 'precipitacion', 'viento', 'humedad']]"
   ]
  },
  {
   "cell_type": "code",
   "execution_count": null,
   "metadata": {},
   "outputs": [],
   "source": [
    "print(limpio)"
   ]
  },
  {
   "cell_type": "code",
   "execution_count": null,
   "metadata": {},
   "outputs": [],
   "source": [
    "# Guardamos el nuevo DataFrame en un archivo CSV\n",
    "limpio.to_csv('limpio/clima_limpio.csv', sep=',', encoding='utf-8', index=False)\n",
    "\n",
    "print(\"Limpieza completada. Archivo guardado en limpio/clima_limpio.csv\")"
   ]
  }
 ],
 "metadata": {
  "kernelspec": {
   "display_name": "ml_env",
   "language": "python",
   "name": "python3"
  },
  "language_info": {
   "codemirror_mode": {
    "name": "ipython",
    "version": 3
   },
   "file_extension": ".py",
   "mimetype": "text/x-python",
   "name": "python",
   "nbconvert_exporter": "python",
   "pygments_lexer": "ipython3",
   "version": "3.13.0"
  }
 },
 "nbformat": 4,
 "nbformat_minor": 2
}
