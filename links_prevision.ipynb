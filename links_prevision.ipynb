{
 "cells": [
  {
   "cell_type": "code",
   "execution_count": null,
   "metadata": {},
   "outputs": [],
   "source": [
    "# Importamos las librerías necesarias\n",
    "import pandas as pd\n",
    "import re\n",
    "\n",
    "# Ruta donde se encuentran los archivos\n",
    "file_links = 'data/links_tiempo.txt'\n",
    "\n",
    "# Cargamos el archivo en un DataFrame, eliminando líneas vacías\n",
    "with open(file_links, 'r') as f:\n",
    "    links = [line.strip() for line in f if line.strip()]\n",
    "\n",
    "# Convertimos la lista en un DataFrame\n",
    "df_links = pd.DataFrame(links, columns=['link'])"
   ]
  },
  {
   "cell_type": "code",
   "execution_count": null,
   "metadata": {},
   "outputs": [],
   "source": [
    "# Crear una nueva columna 'base' con la base de la url\n",
    "df_links['base'] = df_links['link'].apply(lambda x: re.search(r'(https?://[^?]+)', x).group(1))"
   ]
  },
  {
   "cell_type": "code",
   "execution_count": null,
   "metadata": {},
   "outputs": [],
   "source": [
    "# Generar las nuevas URLs usando listas por comprensión\n",
    "nuevas_urls = [\n",
    "    {\"url_completa\": f\"{base_url}?page=14\"}\n",
    "    for base_url in df_links['base']\n",
    "]"
   ]
  },
  {
   "cell_type": "code",
   "execution_count": null,
   "metadata": {},
   "outputs": [],
   "source": [
    "# Crear un nuevo DataFrame con las URLs generadas\n",
    "df_resultado = pd.DataFrame(nuevas_urls)\n",
    "\n",
    "# Mostrar resultado sin truncar columnas\n",
    "pd.set_option('display.max_colwidth', None)\n",
    "print(df_resultado)"
   ]
  },
  {
   "cell_type": "code",
   "execution_count": null,
   "metadata": {},
   "outputs": [],
   "source": [
    "# Guardar el resultado en un archivo txt\n",
    "df_resultado.to_csv('data/links_prevision.txt', index=False, header=False)"
   ]
  }
 ],
 "metadata": {
  "kernelspec": {
   "display_name": "ml_env",
   "language": "python",
   "name": "python3"
  },
  "language_info": {
   "codemirror_mode": {
    "name": "ipython",
    "version": 3
   },
   "file_extension": ".py",
   "mimetype": "text/x-python",
   "name": "python",
   "nbconvert_exporter": "python",
   "pygments_lexer": "ipython3",
   "version": "3.13.0"
  }
 },
 "nbformat": 4,
 "nbformat_minor": 2
}
